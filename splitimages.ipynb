{
 "cells": [
  {
   "cell_type": "code",
   "execution_count": 21,
   "id": "52acd504",
   "metadata": {},
   "outputs": [
    {
     "name": "stdout",
     "output_type": "stream",
     "text": [
      "(1920, 1080)\n",
      "(1080, 1920, 4)\n"
     ]
    }
   ],
   "source": [
    "from PIL import Image\n",
    "import numpy as np\n",
    "import matplotlib.pyplot as plt\n",
    "import sys\n",
    "from pathlib import Path\n",
    "import os\n",
    "import cv2\n",
    "\n",
    "imagefile = 'Untitled 01 12.tga'\n",
    "folder = Path('/Users/kaitohara-lee/Library/CloudStorage/OneDrive-Queen\\'sUniversity/School/UTokyo/Project')\n",
    "imagepath = folder / imagefile\n",
    "image = Image.open(imagepath)\n",
    "\n",
    "imagearr = np.array(image)\n",
    "print(image.size)\n",
    "print(np.shape(imagearr))"
   ]
  },
  {
   "cell_type": "code",
   "execution_count": 22,
   "id": "314f65aa",
   "metadata": {},
   "outputs": [
    {
     "name": "stdout",
     "output_type": "stream",
     "text": [
      "Left image shape: (540, 1920, 4)\n",
      "Right image shape: (540, 1920, 4)\n"
     ]
    }
   ],
   "source": [
    "left = imagearr[::2,:,:] # Odd rows extracted\n",
    "\n",
    "right = imagearr[1::2,:,:] # Even rows extracted\n",
    "\n",
    "Image.fromarray(left).show()\n",
    "Image.fromarray(right).show()\n",
    "\n",
    "print('Left image shape:', left.shape)\n",
    "print('Right image shape:', right.shape)"
   ]
  },
  {
   "cell_type": "code",
   "execution_count": 24,
   "id": "34d7cc13",
   "metadata": {},
   "outputs": [],
   "source": [
    "# Nearest neightbor interpolation (duplicate rows)\n",
    "left_interp = cv2.resize(left, (1920, 1080), interpolation=cv2.INTER_NEAREST)\n",
    "right_interp = cv2.resize(right, (1920, 1080), interpolation=cv2.INTER_NEAREST)\n",
    "Image.fromarray(left_interp).show()\n",
    "Image.fromarray(right_interp).show()\n",
    "\n",
    "# Neearest neighbor interpolation to 1280x720\n",
    "left_interp_720 = cv2.resize(left, (1280, 720), interpolation=cv2.INTER_NEAREST)\n",
    "right_interp_720 = cv2.resize(right, (1280, 720), interpolation=cv2.INTER_NEAREST)\n",
    "Image.fromarray(left_interp_720).show()\n",
    "Image.fromarray(right_interp_720).show()"
   ]
  },
  {
   "cell_type": "code",
   "execution_count": null,
   "id": "bd36dae5",
   "metadata": {},
   "outputs": [],
   "source": [
    "# Bilinear interpolation\n",
    "left_bilinear = cv2.resize(left, (1920, 1080), interpolation=cv2.INTER_LINEAR)\n",
    "right_bilinear = cv2.resize(right, (1920, 1080), interpolation=cv2.INTER_LINEAR)\n",
    "Image.fromarray(left_bilinear).show()\n",
    "Image.fromarray(right_bilinear).show()\n",
    "\n",
    "# Bilinear interpolation to 1280x720\n",
    "left_bilinear_720 = cv2.resize(left, (1280, 720), interpolation=cv2.INTER_LINEAR)\n",
    "right_bilinear_720 = cv2.resize(right, (1280, 720), interpolation=cv2.INTER_LINEAR)\n",
    "Image.fromarray(left_bilinear_720).show()\n",
    "Image.fromarray(right_bilinear_720).show()  "
   ]
  },
  {
   "cell_type": "code",
   "execution_count": null,
   "id": "3a9abc14",
   "metadata": {},
   "outputs": [],
   "source": [
    "# Bicubic interpolation\n",
    "left_bicubic = cv2.resize(left, (1920, 1080), interpolation=cv2.INTER_CUBIC)\n",
    "right_bicubic = cv2.resize(right, (1920, 1080), interpolation=cv2.INTER_CUBIC)\n",
    "Image.fromarray(left_bicubic).show()\n",
    "Image.fromarray(right_bicubic).show()\n",
    "\n",
    "# Bicubic interpolation to 1280x720\n",
    "left_bicubic_720 = cv2.resize(left, (1280, 720), interpolation=cv2.INTER_CUBIC)\n",
    "right_bicubic_720 = cv2.resize(right, (1280, 720), interpolation=cv2.INTER_CUBIC)\n",
    "Image.fromarray(left_bicubic_720).show()\n",
    "Image.fromarray(right_bicubic_720).show()   "
   ]
  },
  {
   "cell_type": "code",
   "execution_count": null,
   "id": "a20682a3",
   "metadata": {},
   "outputs": [],
   "source": [
    "# Lanczos interpolation\n",
    "left_lanczos = cv2.resize(left, (1920, 1080), interpolation=cv2.INTER_LANCZOS4)\n",
    "right_lanczos = cv2.resize(right, (1920, 1080), interpolation=cv2.INTER_LANCZOS4)\n",
    "Image.fromarray(left_lanczos).show()\n",
    "Image.fromarray(right_lanczos).show()\n",
    "\n",
    "# Lanczos interpolation to 1280x720\n",
    "left_lanczos_720 = cv2.resize(left, (1280, 720), interpolation=cv2.INTER_LANCZOS4)\n",
    "right_lanczos_720 = cv2.resize(right, (1280, 720), interpolation=cv2.INTER_LANCZOS4)\n",
    "Image.fromarray(left_lanczos_720).show()\n",
    "Image.fromarray(right_lanczos_720).show()"
   ]
  },
  {
   "cell_type": "code",
   "execution_count": null,
   "id": "1c8bb869",
   "metadata": {},
   "outputs": [],
   "source": [
    "# Save Nearest neighbor interpolated images and downsampled images into folder called NN under folder path. Within NN, create two folders: 1920x1080 and 1280x720. Within each of these folders, create two folders: left and right.\n",
    "nn_folder = folder / 'NN'\n",
    "nn_1080_folder = nn_folder / '1920x1080'\n",
    "nn_720_folder = nn_folder / '1280x720'\n",
    "nn_left_folder_1080 = nn_1080_folder / 'left'\n",
    "nn_right_folder_1080 = nn_1080_folder / 'right'\n",
    "nn_left_folder_720 = nn_720_folder / 'left'\n",
    "nn_right_folder_720 = nn_720_folder / 'right'\n",
    "os.makedirs(nn_left_folder_1080, exist_ok=True)\n",
    "os.makedirs(nn_right_folder_1080, exist_ok=True)\n",
    "os.makedirs(nn_left_folder_720, exist_ok=True)\n",
    "os.makedirs(nn_right_folder_720, exist_ok=True)\n",
    "\n",
    "# Save images\n",
    "Image.fromarray(left_interp).save(nn_left_folder_1080 / 'left_interp.tga')\n",
    "Image.fromarray(right_interp).save(nn_right_folder_1080 / 'right_interp.tga')\n",
    "Image.fromarray(left_interp_720).save(nn_left_folder_720 / 'left_interp_720.tga')\n",
    "Image.fromarray(right_interp_720).save(nn_right_folder_720 / 'right_interp_720.tga')\n"
   ]
  }
 ],
 "metadata": {
  "kernelspec": {
   "display_name": "base",
   "language": "python",
   "name": "python3"
  },
  "language_info": {
   "codemirror_mode": {
    "name": "ipython",
    "version": 3
   },
   "file_extension": ".py",
   "mimetype": "text/x-python",
   "name": "python",
   "nbconvert_exporter": "python",
   "pygments_lexer": "ipython3",
   "version": "3.12.7"
  }
 },
 "nbformat": 4,
 "nbformat_minor": 5
}
