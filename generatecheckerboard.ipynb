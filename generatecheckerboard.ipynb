{
 "cells": [
  {
   "cell_type": "code",
   "execution_count": 10,
   "id": "e3b222b3",
   "metadata": {},
   "outputs": [],
   "source": [
    "import cv2\n",
    "import numpy as np\n",
    "from matplotlib import pyplot as plt"
   ]
  },
  {
   "cell_type": "code",
   "execution_count": 15,
   "id": "f25f1b24",
   "metadata": {},
   "outputs": [
    {
     "name": "stdout",
     "output_type": "stream",
     "text": [
      "145\n"
     ]
    }
   ],
   "source": [
    "squaresize = 14 # size of each square in pixels mm\n",
    "\n",
    "ppi = 264 # pixels per inch\n",
    "mm_per_inch = 25.4 # millimeters per inch\n",
    "pixels_per_mm = ppi / mm_per_inch  # Convert pixels to millimeters\n",
    "\n",
    "squaresize_pixels = int(squaresize * pixels_per_mm)  # Convert square size to pixels\n",
    "\n",
    "print(squaresize_pixels)\n"
   ]
  },
  {
   "cell_type": "code",
   "execution_count": 16,
   "id": "124554ab",
   "metadata": {},
   "outputs": [
    {
     "name": "stdout",
     "output_type": "stream",
     "text": [
      "1450 1015\n"
     ]
    }
   ],
   "source": [
    "num_squares_x = 10  # You can change this\n",
    "num_squares_y = 7\n",
    "\n",
    "width = num_squares_x * squaresize_pixels\n",
    "height = num_squares_y * squaresize_pixels\n",
    "checkerboard = np.zeros((height, width), dtype=np.uint8)\n",
    "\n",
    "print(width, height)\n",
    "\n",
    "for y in range(num_squares_y):\n",
    "    for x in range(num_squares_x):\n",
    "        if (x + y) % 2 == 0:\n",
    "            x0 = x * squaresize_pixels\n",
    "            y0 = y * squaresize_pixels\n",
    "            checkerboard[y0:y0 + squaresize_pixels, x0:x0 + squaresize_pixels] = 255\n"
   ]
  },
  {
   "cell_type": "code",
   "execution_count": 17,
   "id": "cac70893",
   "metadata": {},
   "outputs": [
    {
     "data": {
      "image/png": "[encoded data removed]",
      "text/plain": [
       "<Figure size 640x480 with 1 Axes>"
      ]
     },
     "metadata": {},
     "output_type": "display_data"
    }
   ],
   "source": [
    "plt.imshow(checkerboard, cmap='gray')\n",
    "plt.axis('off')\n",
    "plt.show()"
   ]
  }
 ],
 "metadata": {
  "kernelspec": {
   "display_name": "base",
   "language": "python",
   "name": "python3"
  },
  "language_info": {
   "codemirror_mode": {
    "name": "ipython",
    "version": 3
   },
   "file_extension": ".py",
   "mimetype": "text/x-python",
   "name": "python",
   "nbconvert_exporter": "python",
   "pygments_lexer": "ipython3",
   "version": "3.12.7"
  }
 },
 "nbformat": 4,
 "nbformat_minor": 5
}
